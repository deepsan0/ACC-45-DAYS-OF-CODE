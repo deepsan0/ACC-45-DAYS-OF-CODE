{
 "cells": [
  {
   "cell_type": "code",
   "execution_count": 3,
   "id": "e9fee7e0",
   "metadata": {},
   "outputs": [
    {
     "name": "stdout",
     "output_type": "stream",
     "text": [
      "Enter a stringstd\n",
      "The words sorted in alphabetical order are as follows: \n",
      "std\n"
     ]
    }
   ],
   "source": [
    "str_1 = input(\"Enter a string\")\n",
    "\n",
    "words = [word.lower () for word in str_1.split ()]\n",
    "\n",
    "words.sort ()\n",
    "\n",
    "print (\"The words sorted in alphabetical order are as follows: \")\n",
    "\n",
    "for word in words:\n",
    "\n",
    "              print (word)"
   ]
  },
  {
   "cell_type": "code",
   "execution_count": null,
   "id": "2a6556c8",
   "metadata": {},
   "outputs": [],
   "source": []
  }
 ],
 "metadata": {
  "kernelspec": {
   "display_name": "Python 3 (ipykernel)",
   "language": "python",
   "name": "python3"
  },
  "language_info": {
   "codemirror_mode": {
    "name": "ipython",
    "version": 3
   },
   "file_extension": ".py",
   "mimetype": "text/x-python",
   "name": "python",
   "nbconvert_exporter": "python",
   "pygments_lexer": "ipython3",
   "version": "3.9.12"
  }
 },
 "nbformat": 4,
 "nbformat_minor": 5
}
