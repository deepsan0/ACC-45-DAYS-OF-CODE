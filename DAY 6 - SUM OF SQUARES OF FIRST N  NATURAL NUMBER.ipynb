{
 "cells": [
  {
   "cell_type": "code",
   "execution_count": 1,
   "id": "3063c608",
   "metadata": {},
   "outputs": [
    {
     "name": "stdout",
     "output_type": "stream",
     "text": [
      "enter n: 5\n",
      "sum of squares of first 5 natural numbers:  55\n"
     ]
    }
   ],
   "source": [
    "def SumofSquares(n):\n",
    "    s=0\n",
    "    for i in range(n+1):\n",
    "        s+=i**2\n",
    "    return s\n",
    "\n",
    "#input\n",
    "n=int(input(\"enter n: \"))\n",
    "print(\"sum of squares of first {} natural numbers: \".format(n),SumofSquares(n))\n"
   ]
  },
  {
   "cell_type": "code",
   "execution_count": null,
   "id": "2a7ff731",
   "metadata": {},
   "outputs": [],
   "source": []
  }
 ],
 "metadata": {
  "kernelspec": {
   "display_name": "Python 3 (ipykernel)",
   "language": "python",
   "name": "python3"
  },
  "language_info": {
   "codemirror_mode": {
    "name": "ipython",
    "version": 3
   },
   "file_extension": ".py",
   "mimetype": "text/x-python",
   "name": "python",
   "nbconvert_exporter": "python",
   "pygments_lexer": "ipython3",
   "version": "3.9.12"
  }
 },
 "nbformat": 4,
 "nbformat_minor": 5
}
