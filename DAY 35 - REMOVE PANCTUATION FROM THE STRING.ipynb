{
 "cells": [
  {
   "cell_type": "code",
   "execution_count": 1,
   "id": "fff7279a",
   "metadata": {},
   "outputs": [
    {
     "name": "stdout",
     "output_type": "stream",
     "text": [
      "Enter a string: s.kj.jl.\n",
      "skjjl\n"
     ]
    }
   ],
   "source": [
    "punctuation = '''''!()-[]{};:'\"\\,<>./?@#$%^&*_~'''  \n",
    "my_str = input(\"Enter a string: \")  \n",
    "no_punct = \"\"  \n",
    "for char in my_str:  \n",
    "     if char not in punctuation:  \n",
    "        no_punct = no_punct + char  \n",
    "\n",
    "print(no_punct)"
   ]
  },
  {
   "cell_type": "code",
   "execution_count": null,
   "id": "685602c0",
   "metadata": {},
   "outputs": [],
   "source": []
  }
 ],
 "metadata": {
  "kernelspec": {
   "display_name": "Python 3 (ipykernel)",
   "language": "python",
   "name": "python3"
  },
  "language_info": {
   "codemirror_mode": {
    "name": "ipython",
    "version": 3
   },
   "file_extension": ".py",
   "mimetype": "text/x-python",
   "name": "python",
   "nbconvert_exporter": "python",
   "pygments_lexer": "ipython3",
   "version": "3.9.12"
  }
 },
 "nbformat": 4,
 "nbformat_minor": 5
}
