{
 "cells": [
  {
   "cell_type": "code",
   "execution_count": 1,
   "id": "f44c410a",
   "metadata": {},
   "outputs": [
    {
     "name": "stdout",
     "output_type": "stream",
     "text": [
      "{'a': 3, 'e': 1, 'i': 2, 'o': 1, 'u': 2}\n"
     ]
    }
   ],
   "source": [
    " # Q7. python program to count the number of each vowel\n",
    "\n",
    "vowels= 'aeiou'\n",
    "p_str = 'Hello, i am priyanshu kumar'\n",
    "p_str = p_str.casefold()\n",
    "count = {}.fromkeys(vowels,0)\n",
    "for char in p_str:\n",
    "   if char in count:\n",
    "       count[char] += 1\n",
    "print (count)"
   ]
  },
  {
   "cell_type": "code",
   "execution_count": null,
   "id": "683fd253",
   "metadata": {},
   "outputs": [],
   "source": []
  }
 ],
 "metadata": {
  "kernelspec": {
   "display_name": "Python 3 (ipykernel)",
   "language": "python",
   "name": "python3"
  },
  "language_info": {
   "codemirror_mode": {
    "name": "ipython",
    "version": 3
   },
   "file_extension": ".py",
   "mimetype": "text/x-python",
   "name": "python",
   "nbconvert_exporter": "python",
   "pygments_lexer": "ipython3",
   "version": "3.9.12"
  }
 },
 "nbformat": 4,
 "nbformat_minor": 5
}
