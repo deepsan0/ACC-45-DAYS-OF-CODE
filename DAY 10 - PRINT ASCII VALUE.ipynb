{
 "cells": [
  {
   "cell_type": "code",
   "execution_count": 1,
   "id": "80ee0c62",
   "metadata": {},
   "outputs": [
    {
     "name": "stdout",
     "output_type": "stream",
     "text": [
      "Enter character: A\n",
      "ASCII code of A is: 65\n"
     ]
    }
   ],
   "source": [
    "#ASCII code of a character\n",
    "\n",
    "ch = input(\"Enter character: \")\n",
    "\n",
    "asc = ord(ch)\n",
    "print(\"ASCII code of\",ch,\"is:\", asc)"
   ]
  },
  {
   "cell_type": "code",
   "execution_count": null,
   "id": "c698c0cf",
   "metadata": {},
   "outputs": [],
   "source": []
  },
  {
   "cell_type": "code",
   "execution_count": null,
   "id": "30b2b235",
   "metadata": {},
   "outputs": [],
   "source": []
  }
 ],
 "metadata": {
  "kernelspec": {
   "display_name": "Python 3 (ipykernel)",
   "language": "python",
   "name": "python3"
  },
  "language_info": {
   "codemirror_mode": {
    "name": "ipython",
    "version": 3
   },
   "file_extension": ".py",
   "mimetype": "text/x-python",
   "name": "python",
   "nbconvert_exporter": "python",
   "pygments_lexer": "ipython3",
   "version": "3.9.12"
  }
 },
 "nbformat": 4,
 "nbformat_minor": 5
}
