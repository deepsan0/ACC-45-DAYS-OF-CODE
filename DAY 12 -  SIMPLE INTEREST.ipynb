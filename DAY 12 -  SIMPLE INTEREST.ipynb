{
 "cells": [
  {
   "cell_type": "code",
   "execution_count": 1,
   "id": "122ac329",
   "metadata": {},
   "outputs": [
    {
     "name": "stdout",
     "output_type": "stream",
     "text": [
      "Enter principal amount600\n",
      "Enter rate of interest5\n",
      "Enter time period1\n",
      "The Simple Interest is 30.0\n"
     ]
    }
   ],
   "source": [
    "def simple_interest(p,r,t):\n",
    "    si = (p * r * t)/100\n",
    "    return si\n",
    "      \n",
    "p=int(input(\"Enter principal amount\"))\n",
    "r=int(input(\"Enter rate of interest\"))\n",
    "t=int(input(\"Enter time period\"))\n",
    "\n",
    "print('The Simple Interest is', simple_interest(p, r, t))"
   ]
  },
  {
   "cell_type": "code",
   "execution_count": null,
   "id": "b1589666",
   "metadata": {},
   "outputs": [],
   "source": []
  }
 ],
 "metadata": {
  "kernelspec": {
   "display_name": "Python 3 (ipykernel)",
   "language": "python",
   "name": "python3"
  },
  "language_info": {
   "codemirror_mode": {
    "name": "ipython",
    "version": 3
   },
   "file_extension": ".py",
   "mimetype": "text/x-python",
   "name": "python",
   "nbconvert_exporter": "python",
   "pygments_lexer": "ipython3",
   "version": "3.9.12"
  }
 },
 "nbformat": 4,
 "nbformat_minor": 5
}
