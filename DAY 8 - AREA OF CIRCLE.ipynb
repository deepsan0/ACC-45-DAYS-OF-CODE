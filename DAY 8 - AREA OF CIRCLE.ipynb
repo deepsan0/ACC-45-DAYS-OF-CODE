{
 "cells": [
  {
   "cell_type": "code",
   "execution_count": 1,
   "id": "9c122587",
   "metadata": {},
   "outputs": [
    {
     "name": "stdout",
     "output_type": "stream",
     "text": [
      "Enter Radius: 6\n",
      "Area:  113.29199999999999\n"
     ]
    }
   ],
   "source": [
    "def area_of_circle(r):\n",
    "    pi=3.147\n",
    "    area= pi*r*r\n",
    "    return area\n",
    "\n",
    "radius=float(input(\"Enter Radius: \"))\n",
    "print(\"Area: \",area_of_circle(radius))\n"
   ]
  },
  {
   "cell_type": "code",
   "execution_count": null,
   "id": "47aefa0e",
   "metadata": {},
   "outputs": [],
   "source": []
  }
 ],
 "metadata": {
  "kernelspec": {
   "display_name": "Python 3 (ipykernel)",
   "language": "python",
   "name": "python3"
  },
  "language_info": {
   "codemirror_mode": {
    "name": "ipython",
    "version": 3
   },
   "file_extension": ".py",
   "mimetype": "text/x-python",
   "name": "python",
   "nbconvert_exporter": "python",
   "pygments_lexer": "ipython3",
   "version": "3.9.12"
  }
 },
 "nbformat": 4,
 "nbformat_minor": 5
}
