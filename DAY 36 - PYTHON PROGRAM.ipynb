{
 "cells": [
  {
   "cell_type": "code",
   "execution_count": 1,
   "id": "deb9f8c2",
   "metadata": {},
   "outputs": [
    {
     "name": "stdout",
     "output_type": "stream",
     "text": [
      "output is : \n",
      "10\n",
      "the percentage is:  7.8\n"
     ]
    }
   ],
   "source": [
    "\n",
    "\n",
    "def printinfo(arg1,*vartuple ):\n",
    "    print(\"output is : \")\n",
    "    print(arg1)\n",
    "    sum=0\n",
    "    for var in vartuple :\n",
    "        sum=sum+var\n",
    "    per=sum/5\n",
    "    print(\"the percentage is: \",per)\n",
    "    return\n",
    "    \n",
    "printinfo(10,12,13,14)\n",
    "    \n",
    "\n",
    "    "
   ]
  },
  {
   "cell_type": "code",
   "execution_count": null,
   "id": "1a3bf6c4",
   "metadata": {},
   "outputs": [],
   "source": []
  }
 ],
 "metadata": {
  "kernelspec": {
   "display_name": "Python 3 (ipykernel)",
   "language": "python",
   "name": "python3"
  },
  "language_info": {
   "codemirror_mode": {
    "name": "ipython",
    "version": 3
   },
   "file_extension": ".py",
   "mimetype": "text/x-python",
   "name": "python",
   "nbconvert_exporter": "python",
   "pygments_lexer": "ipython3",
   "version": "3.9.12"
  }
 },
 "nbformat": 4,
 "nbformat_minor": 5
}
