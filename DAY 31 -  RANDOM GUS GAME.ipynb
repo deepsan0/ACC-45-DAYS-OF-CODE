{
 "cells": [
  {
   "cell_type": "code",
   "execution_count": 1,
   "id": "50cfe196",
   "metadata": {},
   "outputs": [
    {
     "name": "stdout",
     "output_type": "stream",
     "text": [
      "enter the no.5\n",
      "you lose , try again\n",
      "enter the no.6\n",
      "you lose , try again\n",
      "enter the no.8\n",
      "you win\n"
     ]
    }
   ],
   "source": [
    "#random guess game\n",
    "import random\n",
    "attempts=4\n",
    "\n",
    "computer_no=random.randrange(1,10)\n",
    "while attempts>0:\n",
    "    n=int(input(\"enter the no.\"))\n",
    "    if n==computer_no:\n",
    "        print(\"you win\")\n",
    "        break;\n",
    "    else:\n",
    "        print(\"you lose , try again\")\n",
    "        attempts=attempts-1"
   ]
  },
  {
   "cell_type": "code",
   "execution_count": null,
   "id": "1d81dd70",
   "metadata": {},
   "outputs": [],
   "source": []
  }
 ],
 "metadata": {
  "kernelspec": {
   "display_name": "Python 3 (ipykernel)",
   "language": "python",
   "name": "python3"
  },
  "language_info": {
   "codemirror_mode": {
    "name": "ipython",
    "version": 3
   },
   "file_extension": ".py",
   "mimetype": "text/x-python",
   "name": "python",
   "nbconvert_exporter": "python",
   "pygments_lexer": "ipython3",
   "version": "3.9.12"
  }
 },
 "nbformat": 4,
 "nbformat_minor": 5
}
