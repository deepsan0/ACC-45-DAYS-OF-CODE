{
 "cells": [
  {
   "cell_type": "code",
   "execution_count": 3,
   "id": "39792530",
   "metadata": {},
   "outputs": [
    {
     "name": "stdout",
     "output_type": "stream",
     "text": [
      "Enter 9 Elements for First Matrix: \n",
      "1\n",
      "2\n",
      "3\n",
      "4\n",
      "5\n",
      "6\n",
      "7\n",
      "8\n",
      "9\n",
      "Enter 9 Elements for Second Matrix: \n",
      "9\n",
      "8\n",
      "7\n",
      "6\n",
      "5\n",
      "4\n",
      "3\n",
      "2\n",
      "1\n",
      "\n",
      "Addition Result of Two Given Matrix is:\n",
      "10 10 10 \n",
      "10 10 10 \n",
      "10 10 10 \n"
     ]
    }
   ],
   "source": [
    "# Program to add two matrices using nested loop\n",
    "matOne = []\n",
    "print(\"Enter 9 Elements for First Matrix: \")\n",
    "for i in range(3):\n",
    "    matOne.append([])\n",
    "    for j in range(3):\n",
    "        num = int(input())\n",
    "        matOne[i].append(num)\n",
    "\n",
    "matTwo = []\n",
    "print(\"Enter 9 Elements for Second Matrix: \")\n",
    "for i in range(3):\n",
    "    matTwo.append([])\n",
    "    for j in range(3):\n",
    "        num = int(input())\n",
    "        matTwo[i].append(num)\n",
    "\n",
    "matThree = []\n",
    "for i in range(3):\n",
    "    matThree.append([])\n",
    "    for j in range(3):\n",
    "        matThree[i].append(matOne[i][j]+matTwo[i][j])\n",
    "\n",
    "print(\"\\nAddition Result of Two Given Matrix is:\")\n",
    "for i in range(3):\n",
    "    for j in range(3):\n",
    "        print(matThree[i][j], end=\" \")\n",
    "    print()"
   ]
  },
  {
   "cell_type": "code",
   "execution_count": null,
   "id": "49621421",
   "metadata": {},
   "outputs": [],
   "source": []
  }
 ],
 "metadata": {
  "kernelspec": {
   "display_name": "Python 3 (ipykernel)",
   "language": "python",
   "name": "python3"
  },
  "language_info": {
   "codemirror_mode": {
    "name": "ipython",
    "version": 3
   },
   "file_extension": ".py",
   "mimetype": "text/x-python",
   "name": "python",
   "nbconvert_exporter": "python",
   "pygments_lexer": "ipython3",
   "version": "3.9.12"
  }
 },
 "nbformat": 4,
 "nbformat_minor": 5
}
