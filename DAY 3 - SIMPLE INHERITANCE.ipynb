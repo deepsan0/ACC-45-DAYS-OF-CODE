{
 "cells": [
  {
   "cell_type": "code",
   "execution_count": 1,
   "id": "5463bc82",
   "metadata": {},
   "outputs": [
    {
     "name": "stdout",
     "output_type": "stream",
     "text": [
      "student name is : r\n",
      "student age is : 240\n",
      "student course: bt\n",
      "student rollnumber : 28\n",
      "student course duration:  4\n"
     ]
    }
   ],
   "source": [
    "#simple inheritance\n",
    "\n",
    "class student:\n",
    "    def __init__(self,name,rollno,age):\n",
    "        self.name= name\n",
    "        self.rollno= rollno\n",
    "        self.age= age\n",
    "class UGsstudent(student):\n",
    "    def __init__(self,course,duration,name,rollno,age):\n",
    "        self.course= course\n",
    "        self.duration= duration\n",
    "        student.__init__(self,name,rollno,age)\n",
    "    def display(self):\n",
    "        print(\"student name is :\",self.name)\n",
    "        print(\"student age is :\",self.age)\n",
    "        print(\"student course:\",self.course)\n",
    "        print(\"student rollnumber :\",self.rollno)\n",
    "        print(\"student course duration: \",self.duration)\n",
    "        \n",
    "ug=UGsstudent('bt',4,'r',28,240)\n",
    "ug.display()"
   ]
  },
  {
   "cell_type": "code",
   "execution_count": null,
   "id": "271cb18e",
   "metadata": {},
   "outputs": [],
   "source": []
  }
 ],
 "metadata": {
  "kernelspec": {
   "display_name": "Python 3 (ipykernel)",
   "language": "python",
   "name": "python3"
  },
  "language_info": {
   "codemirror_mode": {
    "name": "ipython",
    "version": 3
   },
   "file_extension": ".py",
   "mimetype": "text/x-python",
   "name": "python",
   "nbconvert_exporter": "python",
   "pygments_lexer": "ipython3",
   "version": "3.9.12"
  }
 },
 "nbformat": 4,
 "nbformat_minor": 5
}
