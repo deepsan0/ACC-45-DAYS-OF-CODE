{
 "cells": [
  {
   "cell_type": "code",
   "execution_count": null,
   "id": "d44f2a7c",
   "metadata": {},
   "outputs": [
    {
     "name": "stdout",
     "output_type": "stream",
     "text": [
      "1. Addition\n",
      "2. subtraction\n",
      "3. multiplication\n",
      "4. Division\n",
      "5. Exit\n",
      "Enter your choice(1-5):3\n",
      "2\n",
      "3\n",
      "\n",
      " Result= 6.0\n",
      "1. Addition\n",
      "2. subtraction\n",
      "3. multiplication\n",
      "4. Division\n",
      "5. Exit\n",
      "Enter your choice(1-5):"
     ]
    }
   ],
   "source": [
    "while True:\n",
    "    print(\"1. Addition\")\n",
    "    print(\"2. subtraction\")\n",
    "    print(\"3. multiplication\")\n",
    "    print(\"4. Division\")\n",
    "    print(\"5. Exit\")\n",
    "    print(\"Enter your choice(1-5):\",end=\"\")\n",
    "    ch = int(input())\n",
    "    numone = float(input())\n",
    "    numTwo = float(input())\n",
    "    if ch>=1 and ch<=1:\n",
    "        print(\"\\n Enter two numbers: \", end=\"\")\n",
    "        numone = float(input())\n",
    "        numTwo = float(input())\n",
    "    if ch==1:\n",
    "        res = numone+numTwo\n",
    "        print(\"\\n Result=\",res)\n",
    "    elif ch==2:\n",
    "        res = numone-numTwo\n",
    "        print(\"\\n Result=\",res)\n",
    "    elif ch==3:\n",
    "        res = numone*numTwo\n",
    "        print(\"\\n Result=\",res)\n",
    "    elif ch==4:\n",
    "        res = numone/numTwo\n",
    "        print(\"\\n Result=\",res)\n",
    "    elif ch==5:\n",
    "        break\n",
    "    else:\n",
    "        print(\"\\n Invalid input try again\")\n",
    "    "
   ]
  },
  {
   "cell_type": "code",
   "execution_count": null,
   "id": "be792e55",
   "metadata": {},
   "outputs": [],
   "source": []
  },
  {
   "cell_type": "code",
   "execution_count": null,
   "id": "68d14faa",
   "metadata": {},
   "outputs": [],
   "source": []
  }
 ],
 "metadata": {
  "kernelspec": {
   "display_name": "Python 3 (ipykernel)",
   "language": "python",
   "name": "python3"
  },
  "language_info": {
   "codemirror_mode": {
    "name": "ipython",
    "version": 3
   },
   "file_extension": ".py",
   "mimetype": "text/x-python",
   "name": "python",
   "nbconvert_exporter": "python",
   "pygments_lexer": "ipython3",
   "version": "3.9.12"
  }
 },
 "nbformat": 4,
 "nbformat_minor": 5
}
