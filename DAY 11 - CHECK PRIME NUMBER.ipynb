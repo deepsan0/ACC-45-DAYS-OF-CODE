{
 "cells": [
  {
   "cell_type": "code",
   "execution_count": 1,
   "id": "9b95d1dd",
   "metadata": {},
   "outputs": [
    {
     "name": "stdout",
     "output_type": "stream",
     "text": [
      "enter number 56\n",
      "56 is not Prime\n"
     ]
    }
   ],
   "source": [
    "#Check if prime number\n",
    "\n",
    "#function definition\n",
    "def check_prime_no(num):\n",
    "       for i in range(2, num):\n",
    "           if (num % i) == 0:\n",
    "             print(\"{} is not Prime\".format(num))\n",
    "             break\n",
    "       else:\n",
    "           print(\"{} is Prime\".format(num))\n",
    "\n",
    "#input    \n",
    "n = int(input(\"enter number \"))\n",
    "if n>1: \n",
    " check_prime_no(n)\n",
    "else:\n",
    " print(\"1 is neither prime nor composite\")"
   ]
  },
  {
   "cell_type": "code",
   "execution_count": null,
   "id": "b4f253cb",
   "metadata": {},
   "outputs": [],
   "source": []
  }
 ],
 "metadata": {
  "kernelspec": {
   "display_name": "Python 3 (ipykernel)",
   "language": "python",
   "name": "python3"
  },
  "language_info": {
   "codemirror_mode": {
    "name": "ipython",
    "version": 3
   },
   "file_extension": ".py",
   "mimetype": "text/x-python",
   "name": "python",
   "nbconvert_exporter": "python",
   "pygments_lexer": "ipython3",
   "version": "3.9.12"
  }
 },
 "nbformat": 4,
 "nbformat_minor": 5
}
