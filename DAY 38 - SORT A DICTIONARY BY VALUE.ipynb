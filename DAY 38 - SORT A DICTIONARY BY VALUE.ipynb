{
 "cells": [
  {
   "cell_type": "code",
   "execution_count": 1,
   "id": "6908cbff",
   "metadata": {},
   "outputs": [
    {
     "name": "stdout",
     "output_type": "stream",
     "text": [
      "['priyanshu', 'sandeep', 'shivank', 'tarun']\n"
     ]
    }
   ],
   "source": [
    "dt={'b':'priyanshu','a':'shivank','d':'tarun','c':'sandeep'}\n",
    "\n",
    "sorted_dt_value= sorted(dt.values())\n",
    "print(sorted_dt_value)"
   ]
  },
  {
   "cell_type": "code",
   "execution_count": null,
   "id": "a62ff4e7",
   "metadata": {},
   "outputs": [],
   "source": []
  },
  {
   "cell_type": "code",
   "execution_count": null,
   "id": "3f7174c6",
   "metadata": {},
   "outputs": [],
   "source": []
  }
 ],
 "metadata": {
  "kernelspec": {
   "display_name": "Python 3 (ipykernel)",
   "language": "python",
   "name": "python3"
  },
  "language_info": {
   "codemirror_mode": {
    "name": "ipython",
    "version": 3
   },
   "file_extension": ".py",
   "mimetype": "text/x-python",
   "name": "python",
   "nbconvert_exporter": "python",
   "pygments_lexer": "ipython3",
   "version": "3.9.12"
  }
 },
 "nbformat": 4,
 "nbformat_minor": 5
}
