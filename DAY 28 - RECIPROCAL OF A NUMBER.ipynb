{
 "cells": [
  {
   "cell_type": "code",
   "execution_count": 1,
   "id": "0631bef1",
   "metadata": {},
   "outputs": [
    {
     "name": "stdout",
     "output_type": "stream",
     "text": [
      "0.25\n",
      "we cannot divide by zero \n"
     ]
    }
   ],
   "source": [
    "\n",
    "def reciprocal(num1):\n",
    "    try:\n",
    "        reci=1/num1\n",
    "    except ZeroDivisionError:\n",
    "            print(\"we cannot divide by zero \")\n",
    "    else:\n",
    "            print(reci )\n",
    "\n",
    "reciprocal(4)\n",
    "reciprocal(0)"
   ]
  },
  {
   "cell_type": "code",
   "execution_count": null,
   "id": "9860ddf8",
   "metadata": {},
   "outputs": [],
   "source": []
  }
 ],
 "metadata": {
  "kernelspec": {
   "display_name": "Python 3 (ipykernel)",
   "language": "python",
   "name": "python3"
  },
  "language_info": {
   "codemirror_mode": {
    "name": "ipython",
    "version": 3
   },
   "file_extension": ".py",
   "mimetype": "text/x-python",
   "name": "python",
   "nbconvert_exporter": "python",
   "pygments_lexer": "ipython3",
   "version": "3.9.12"
  }
 },
 "nbformat": 4,
 "nbformat_minor": 5
}
