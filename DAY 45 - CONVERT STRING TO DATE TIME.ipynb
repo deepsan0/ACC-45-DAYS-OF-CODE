{
 "cells": [
  {
   "cell_type": "code",
   "execution_count": 5,
   "id": "b8b96edf",
   "metadata": {},
   "outputs": [
    {
     "name": "stdout",
     "output_type": "stream",
     "text": [
      "<class 'datetime.datetime'>\n",
      "2022-12-06 21:32:00\n"
     ]
    }
   ],
   "source": [
    "from datetime import datetime \n",
    "str1=\"dec 06 2022 09:32PM\"\n",
    "date_time=datetime.strptime(str1,'%b %d %Y %I:%M%p')\n",
    "print(type(date_time))\n",
    "print(date_time)"
   ]
  },
  {
   "cell_type": "markdown",
   "id": "0d9645bc",
   "metadata": {},
   "source": []
  }
 ],
 "metadata": {
  "kernelspec": {
   "display_name": "Python 3 (ipykernel)",
   "language": "python",
   "name": "python3"
  },
  "language_info": {
   "codemirror_mode": {
    "name": "ipython",
    "version": 3
   },
   "file_extension": ".py",
   "mimetype": "text/x-python",
   "name": "python",
   "nbconvert_exporter": "python",
   "pygments_lexer": "ipython3",
   "version": "3.9.12"
  }
 },
 "nbformat": 4,
 "nbformat_minor": 5
}
