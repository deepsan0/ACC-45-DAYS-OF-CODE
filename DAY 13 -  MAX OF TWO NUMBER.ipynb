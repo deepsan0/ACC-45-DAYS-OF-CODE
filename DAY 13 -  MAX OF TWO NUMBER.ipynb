{
 "cells": [
  {
   "cell_type": "code",
   "execution_count": null,
   "id": "0b515d28",
   "metadata": {},
   "outputs": [],
   "source": [
    "def max_of_two_num(n,m):\n",
    "    if n>m:\n",
    "        return n\n",
    "    else:\n",
    "        return m   \n",
    "\n",
    "a=int(input(\"Enter first number:\"))\n",
    "b=int(input(\"Enter second number:\"))\n",
    "\n",
    "x=max_of_two_num(a,b)\n",
    "\n",
    "print(\"Maximum of\",a,\"and\",b,\"is\",x)"
   ]
  }
 ],
 "metadata": {
  "kernelspec": {
   "display_name": "Python 3 (ipykernel)",
   "language": "python",
   "name": "python3"
  },
  "language_info": {
   "codemirror_mode": {
    "name": "ipython",
    "version": 3
   },
   "file_extension": ".py",
   "mimetype": "text/x-python",
   "name": "python",
   "nbconvert_exporter": "python",
   "pygments_lexer": "ipython3",
   "version": "3.9.12"
  }
 },
 "nbformat": 4,
 "nbformat_minor": 5
}
