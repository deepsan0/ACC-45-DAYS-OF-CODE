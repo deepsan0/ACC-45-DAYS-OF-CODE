{
 "cells": [
  {
   "cell_type": "code",
   "execution_count": 1,
   "id": "4cf7e90b",
   "metadata": {},
   "outputs": [
    {
     "name": "stdout",
     "output_type": "stream",
     "text": [
      "the index and element of the array is  0 python\n",
      "the index and element of the array is  1 exception\n",
      "the index and element of the array is  2 try and except\n",
      "index out of range\n"
     ]
    }
   ],
   "source": [
    "#exception handling \n",
    "\n",
    "a=[\"python\",\"exception\",\"try and except\"]\n",
    "try:\n",
    "    for i in range(4):\n",
    "        print(\"the index and element of the array is \",i,a[i])\n",
    "except:\n",
    "        print(\"index out of range\") "
   ]
  },
  {
   "cell_type": "code",
   "execution_count": null,
   "id": "d9d0cc99",
   "metadata": {},
   "outputs": [],
   "source": []
  }
 ],
 "metadata": {
  "kernelspec": {
   "display_name": "Python 3 (ipykernel)",
   "language": "python",
   "name": "python3"
  },
  "language_info": {
   "codemirror_mode": {
    "name": "ipython",
    "version": 3
   },
   "file_extension": ".py",
   "mimetype": "text/x-python",
   "name": "python",
   "nbconvert_exporter": "python",
   "pygments_lexer": "ipython3",
   "version": "3.9.12"
  }
 },
 "nbformat": 4,
 "nbformat_minor": 5
}
